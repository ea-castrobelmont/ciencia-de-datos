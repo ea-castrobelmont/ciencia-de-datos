{
  "nbformat": 4,
  "nbformat_minor": 0,
  "metadata": {
    "colab": {
      "provenance": [],
      "authorship_tag": "ABX9TyM8U9anxmaw63OqHpaOMPeT",
      "include_colab_link": true
    },
    "kernelspec": {
      "name": "python3",
      "display_name": "Python 3"
    },
    "language_info": {
      "name": "python"
    }
  },
  "cells": [
    {
      "cell_type": "markdown",
      "metadata": {
        "id": "view-in-github",
        "colab_type": "text"
      },
      "source": [
        "<a href=\"https://colab.research.google.com/github/ea-castrobelmont/ciencia-de-datos/blob/main/predecir_peso_con_altura.ipynb\" target=\"_parent\"><img src=\"https://colab.research.google.com/assets/colab-badge.svg\" alt=\"Open In Colab\"/></a>"
      ]
    },
    {
      "cell_type": "code",
      "source": [
        "import numpy as np\n",
        "from scipy.stats import linregress"
      ],
      "metadata": {
        "id": "Ql3uB4UGecr4"
      },
      "execution_count": 1,
      "outputs": []
    },
    {
      "cell_type": "code",
      "source": [
        "# Datos de altura en metros\n",
        "altura = np.array([1.67, 1.80, 1.75, 1.58, 1.72, 1.62, 1.68, 1.84, 1.76, 1.70])\n",
        "\n",
        "# Datos de peso en kilogramos\n",
        "peso = np.array([65, 80, 73, 55, 70, 60, 67, 90, 75, 68])"
      ],
      "metadata": {
        "id": "dq7aAES3egY3"
      },
      "execution_count": 13,
      "outputs": []
    },
    {
      "cell_type": "code",
      "source": [
        "#Ajustamos una regresión lineal para predecir el peso a partir de la altura\n",
        "slope, intercept, r_value, p_value, std_err = linregress(altura, peso)"
      ],
      "metadata": {
        "id": "wo6kVl8XhQcZ"
      },
      "execution_count": 14,
      "outputs": []
    },
    {
      "cell_type": "code",
      "source": [
        "#La función linregress devuelve cinco valores: \n",
        "#la pendiente de la regresión (slope), \n",
        "#el intercepto (intercept), \n",
        "#el coeficiente de correlación (r_value), \n",
        "#el valor p (p_value) \n",
        "#y el error estándar (std_err).\n",
        "\n",
        "print(\"Pendiente:\", slope.round(6))\n",
        "print(\"Intercepto:\", intercept.round(6))\n",
        "print(\"Coefficiente de correlación: \", r_value.round(6))\n",
        "print(\"Valor p: \", p_value.round(6))\n",
        "print(\"Error estándar: \", std_err.round(6))"
      ],
      "metadata": {
        "colab": {
          "base_uri": "https://localhost:8080/"
        },
        "id": "ZpJ-scKTekjA",
        "outputId": "6778bc73-031f-4a05-f4ac-6f0e3450eebc"
      },
      "execution_count": 15,
      "outputs": [
        {
          "output_type": "stream",
          "name": "stdout",
          "text": [
            "Pendiente: 123.749119\n",
            "Intercepto: -141.558492\n",
            "Coefficiente de correlación:  0.984884\n",
            "Valor p:  0.0\n",
            "Error estándar:  7.694819\n"
          ]
        }
      ]
    },
    {
      "cell_type": "markdown",
      "source": [
        "Con esto obtenemos la fórmula:\n",
        "\n",
        "peso = 1.23 * altura - 141.56"
      ],
      "metadata": {
        "id": "SXyiIiAwfW89"
      }
    },
    {
      "cell_type": "code",
      "source": [
        "altura_pred = 1.51\n",
        "peso_pred = slope * altura_pred + intercept\n",
        "print(\"El peso predicho para una altura de\",\n",
        "      altura_pred,\" metros es:\", peso_pred.round(2))"
      ],
      "metadata": {
        "colab": {
          "base_uri": "https://localhost:8080/"
        },
        "id": "Y2auwjS6fO19",
        "outputId": "dc28c1fa-4896-497c-f209-ead67d63ee1e"
      },
      "execution_count": 18,
      "outputs": [
        {
          "output_type": "stream",
          "name": "stdout",
          "text": [
            "El peso predicho para una altura de 1.51  metros es: 45.3\n"
          ]
        }
      ]
    }
  ]
}