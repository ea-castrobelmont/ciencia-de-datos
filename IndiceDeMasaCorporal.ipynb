{
  "nbformat": 4,
  "nbformat_minor": 0,
  "metadata": {
    "colab": {
      "provenance": [],
      "authorship_tag": "ABX9TyNq5RDIw/m7yib4QBI4Dzup",
      "include_colab_link": true
    },
    "kernelspec": {
      "name": "python3",
      "display_name": "Python 3"
    },
    "language_info": {
      "name": "python"
    }
  },
  "cells": [
    {
      "cell_type": "markdown",
      "metadata": {
        "id": "view-in-github",
        "colab_type": "text"
      },
      "source": [
        "<a href=\"https://colab.research.google.com/github/ea-castrobelmont/ciencia-de-datos/blob/main/IndiceDeMasaCorporal.ipynb\" target=\"_parent\"><img src=\"https://colab.research.google.com/assets/colab-badge.svg\" alt=\"Open In Colab\"/></a>"
      ]
    },
    {
      "cell_type": "code",
      "execution_count": 23,
      "metadata": {
        "id": "rre0V_emeQ-w"
      },
      "outputs": [],
      "source": [
        "#funcion para calcular el índice de masa corporal\n",
        "def calcular_imc(peso, altura):\n",
        "    imc = peso / (altura ** 2)\n",
        "    return round(imc,2)"
      ]
    },
    {
      "cell_type": "code",
      "source": [
        "#Recibir datos de peso y altura\n",
        "peso = input(\"Ingresa tu peso en kilogramos: \")\n",
        "altura = input(\"Ingresa tu altura en metros: \")"
      ],
      "metadata": {
        "colab": {
          "base_uri": "https://localhost:8080/"
        },
        "id": "cQU3nFGQeT3l",
        "outputId": "dfe70de2-dac9-46d3-84de-5f7c118c0303"
      },
      "execution_count": 24,
      "outputs": [
        {
          "name": "stdout",
          "output_type": "stream",
          "text": [
            "Ingresa tu peso en kilogramos: 48\n",
            "Ingresa tu altura en metros: 1.50\n"
          ]
        }
      ]
    },
    {
      "cell_type": "code",
      "source": [
        "#Convertir a float los datos ingresados\n",
        "peso = float(peso)\n",
        "altura = float(altura)"
      ],
      "metadata": {
        "id": "li4V44Hreel1"
      },
      "execution_count": 25,
      "outputs": []
    },
    {
      "cell_type": "code",
      "source": [
        "#Obtener el IMC\n",
        "imc = calcular_imc(peso, altura)\n",
        "if imc < 18.49:\n",
        "  print(\"Tu IMC es: \", imc,\"\\n\" ,\"Tienes peso bajo.\")\n",
        "elif imc <24.99:\n",
        "    print(\"Tu IMC es: \", imc,\"\\n\" ,\"Tienes peso normal.\")\n",
        "elif imc < 29.99:\n",
        "  print(\"Tu IMC es: \", imc,\"\\n\" ,\"Tienes sobrepeso.\")\n",
        "elif imc < 39.99:\n",
        "  print(\"Tu IMC es: \", imc,\"\\n\" ,\"Tienes obesidad.\")\n",
        "elif imc > 40:\n",
        "  print(\"Tu IMC es: \", imc,\"\\n\" ,\"Tienes obesidad extrema.\")"
      ],
      "metadata": {
        "colab": {
          "base_uri": "https://localhost:8080/"
        },
        "id": "PV3nhKJbeZvx",
        "outputId": "3a09d6e4-a6a7-4f77-d2dd-5bd438506435"
      },
      "execution_count": 26,
      "outputs": [
        {
          "output_type": "stream",
          "name": "stdout",
          "text": [
            "Tu IMC es:  21.33 \n",
            " Tienes peso normal.\n"
          ]
        }
      ]
    }
  ]
}