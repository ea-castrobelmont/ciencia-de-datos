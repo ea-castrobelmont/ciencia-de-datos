{
  "nbformat": 4,
  "nbformat_minor": 0,
  "metadata": {
    "colab": {
      "provenance": [],
      "authorship_tag": "ABX9TyNj7B6vCnYclZIoFKtNXk8e",
      "include_colab_link": true
    },
    "kernelspec": {
      "name": "python3",
      "display_name": "Python 3"
    },
    "language_info": {
      "name": "python"
    }
  },
  "cells": [
    {
      "cell_type": "markdown",
      "metadata": {
        "id": "view-in-github",
        "colab_type": "text"
      },
      "source": [
        "<a href=\"https://colab.research.google.com/github/ea-castrobelmont/ciencia-de-datos/blob/main/Funcion_potencia.ipynb\" target=\"_parent\"><img src=\"https://colab.research.google.com/assets/colab-badge.svg\" alt=\"Open In Colab\"/></a>"
      ]
    },
    {
      "cell_type": "code",
      "execution_count": 9,
      "metadata": {
        "id": "1D8_VFaYxr5y"
      },
      "outputs": [],
      "source": [
        "#Importando librerías\n",
        "import numpy as np\n",
        "import matplotlib.pyplot as plt"
      ]
    },
    {
      "cell_type": "code",
      "source": [
        "# generar datos de ejemplo\n",
        "ingresos = np.random.exponential(scale=1000, size=1000)"
      ],
      "metadata": {
        "id": "YsoevXsJxvrt"
      },
      "execution_count": 6,
      "outputs": []
    },
    {
      "cell_type": "code",
      "source": [
        "# transformación de potencia\n",
        "ingresos_transformados = np.power(ingresos, 0.5)"
      ],
      "metadata": {
        "id": "ecLxGbKuxw0N"
      },
      "execution_count": 7,
      "outputs": []
    },
    {
      "cell_type": "code",
      "source": [
        "# graficar datos originales\n",
        "plt.hist(ingresos, bins=50, color='blue', alpha=0.5)\n",
        "plt.xlabel('Ingresos')\n",
        "plt.ylabel('Frecuencia')\n",
        "plt.title('Histograma de ingresos')"
      ],
      "metadata": {
        "colab": {
          "base_uri": "https://localhost:8080/",
          "height": 312
        },
        "id": "GeoMlrPQxyCO",
        "outputId": "6c7e325c-8a95-4e0c-9bc7-9d61054db2f5"
      },
      "execution_count": 10,
      "outputs": [
        {
          "output_type": "execute_result",
          "data": {
            "text/plain": [
              "Text(0.5, 1.0, 'Histograma de ingresos')"
            ]
          },
          "metadata": {},
          "execution_count": 10
        },
        {
          "output_type": "display_data",
          "data": {
            "text/plain": [
              "<Figure size 432x288 with 1 Axes>"
            ],
            "image/png": "[encoded data removed]"
          },
          "metadata": {
            "needs_background": "light"
          }
        }
      ]
    },
    {
      "cell_type": "code",
      "source": [
        "# graficar datos transformados\n",
        "plt.hist(ingresos_transformados, bins=50, color='red', alpha=0.5)\n",
        "plt.xlabel('Ingresos transformados')\n",
        "plt.ylabel('Frecuencia')\n",
        "plt.title('Histograma de ingresos transformados')\n",
        "\n",
        "plt.show()"
      ],
      "metadata": {
        "colab": {
          "base_uri": "https://localhost:8080/",
          "height": 295
        },
        "id": "G01CMMXkxzbP",
        "outputId": "2d5d16bf-341e-4fb9-ec9b-c51182578c11"
      },
      "execution_count": 11,
      "outputs": [
        {
          "output_type": "display_data",
          "data": {
            "text/plain": [
              "<Figure size 432x288 with 1 Axes>"
            ],
            "image/png": "[encoded data removed]"
          },
          "metadata": {
            "needs_background": "light"
          }
        }
      ]
    }
  ]
}