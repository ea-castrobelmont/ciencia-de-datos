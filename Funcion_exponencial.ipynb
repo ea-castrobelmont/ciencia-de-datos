{
  "nbformat": 4,
  "nbformat_minor": 0,
  "metadata": {
    "colab": {
      "provenance": [],
      "authorship_tag": "ABX9TyPO3+ihWbsLd13ASRGKSTGv",
      "include_colab_link": true
    },
    "kernelspec": {
      "name": "python3",
      "display_name": "Python 3"
    },
    "language_info": {
      "name": "python"
    }
  },
  "cells": [
    {
      "cell_type": "markdown",
      "metadata": {
        "id": "view-in-github",
        "colab_type": "text"
      },
      "source": [
        "<a href=\"https://colab.research.google.com/github/ea-castrobelmont/ciencia-de-datos/blob/main/Funcion_exponencial.ipynb\" target=\"_parent\"><img src=\"https://colab.research.google.com/assets/colab-badge.svg\" alt=\"Open In Colab\"/></a>"
      ]
    },
    {
      "cell_type": "code",
      "execution_count": 1,
      "metadata": {
        "id": "AlNZUW89zkH2"
      },
      "outputs": [],
      "source": [
        "#importando librerías\n",
        "import numpy as np\n",
        "import matplotlib.pyplot as plt\n",
        "from scipy.optimize import curve_fit"
      ]
    },
    {
      "cell_type": "code",
      "source": [
        "# Datos de población y tiempo\n",
        "poblacion = [100, 120, 150, 200, 250, 300, 400, 500]\n",
        "tiempo = [0, 1, 2, 3, 4, 5, 6, 7]"
      ],
      "metadata": {
        "id": "jwT_8W7xzosF"
      },
      "execution_count": 2,
      "outputs": []
    },
    {
      "cell_type": "code",
      "source": [
        "# Definir la función exponencial\n",
        "def func(t, a, r):\n",
        "    return a * np.exp(r*t)"
      ],
      "metadata": {
        "id": "GEHtxuPHzqA9"
      },
      "execution_count": 3,
      "outputs": []
    },
    {
      "cell_type": "code",
      "source": [
        "# Ajuste de curva a los datos\n",
        "popt, pcov = curve_fit(func, tiempo, poblacion)"
      ],
      "metadata": {
        "id": "cWSsASGazrJp"
      },
      "execution_count": 4,
      "outputs": []
    },
    {
      "cell_type": "code",
      "source": [
        "# Parámetros de la función exponencial\n",
        "a = popt[0]\n",
        "r = popt[1]"
      ],
      "metadata": {
        "id": "QjCllLPUzsMD"
      },
      "execution_count": 5,
      "outputs": []
    },
    {
      "cell_type": "code",
      "source": [
        "# Predicción de la población futura\n",
        "tiempo_futuro = np.arange(8, 11)\n",
        "poblacion_futura = func(tiempo_futuro, a, r)"
      ],
      "metadata": {
        "id": "po9YlVfGztUi"
      },
      "execution_count": 6,
      "outputs": []
    },
    {
      "cell_type": "code",
      "source": [
        "# Visualización de los datos y la predicción\n",
        "plt.plot(tiempo, poblacion, 'ro', label='Datos')\n",
        "plt.plot(tiempo_futuro, poblacion_futura, 'b-', label='Predicción')\n",
        "plt.legend()\n",
        "plt.xlabel('Tiempo (años)')\n",
        "plt.ylabel('Población')\n",
        "plt.show()"
      ],
      "metadata": {
        "colab": {
          "base_uri": "https://localhost:8080/",
          "height": 279
        },
        "id": "Ral81FdbzvG0",
        "outputId": "fb5c09ca-d3ca-4164-eb1c-656386431168"
      },
      "execution_count": 7,
      "outputs": [
        {
          "output_type": "display_data",
          "data": {
            "text/plain": [
              "<Figure size 432x288 with 1 Axes>"
            ],
            "image/png": "[encoded data removed]"
          },
          "metadata": {
            "needs_background": "light"
          }
        }
      ]
    }
  ]
}