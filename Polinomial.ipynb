{
  "nbformat": 4,
  "nbformat_minor": 0,
  "metadata": {
    "colab": {
      "provenance": [],
      "authorship_tag": "ABX9TyOk1OFKW/bl896nxW1j3Y3g",
      "include_colab_link": true
    },
    "kernelspec": {
      "name": "python3",
      "display_name": "Python 3"
    },
    "language_info": {
      "name": "python"
    }
  },
  "cells": [
    {
      "cell_type": "markdown",
      "metadata": {
        "id": "view-in-github",
        "colab_type": "text"
      },
      "source": [
        "<a href=\"https://colab.research.google.com/github/ea-castrobelmont/ciencia-de-datos/blob/main/Polinomial.ipynb\" target=\"_parent\"><img src=\"https://colab.research.google.com/assets/colab-badge.svg\" alt=\"Open In Colab\"/></a>"
      ]
    },
    {
      "cell_type": "code",
      "execution_count": 1,
      "metadata": {
        "id": "EmG3YkyNQTVG"
      },
      "outputs": [],
      "source": [
        "#import librerías\n",
        "import numpy as np\n",
        "import matplotlib.pyplot as plt"
      ]
    },
    {
      "cell_type": "code",
      "source": [
        "# datos\n",
        "tumor_size = [1.2, 2.1, 2.7, 3.5, 4.0, 4.8, 5.5, 6.0, 6.8, 7.2]\n",
        "survival_time = [38, 57, 69, 81, 87, 94, 100, 105, 110, 114]"
      ],
      "metadata": {
        "id": "VW7xcQjcQZ8n"
      },
      "execution_count": 2,
      "outputs": []
    },
    {
      "cell_type": "code",
      "source": [
        "# ajuste de la curva polinomial\n",
        "p = np.polyfit(tumor_size, survival_time, 2)\n",
        "poly_func = np.poly1d(p)"
      ],
      "metadata": {
        "id": "NS8PLzRmQWqq"
      },
      "execution_count": 3,
      "outputs": []
    },
    {
      "cell_type": "code",
      "source": [
        "# gráfico de la curva ajustada\n",
        "plt.scatter(tumor_size, survival_time, color='blue')\n",
        "plt.plot(tumor_size, poly_func(tumor_size), color='red')\n",
        "plt.xlabel('Tamaño del tumor')\n",
        "plt.ylabel('Tiempo de supervivencia')\n",
        "plt.show()"
      ],
      "metadata": {
        "colab": {
          "base_uri": "https://localhost:8080/",
          "height": 279
        },
        "id": "e5IdyceJQbxY",
        "outputId": "6cfc5511-7442-4784-d126-41305dc8c2c1"
      },
      "execution_count": 4,
      "outputs": [
        {
          "output_type": "display_data",
          "data": {
            "text/plain": [
              "<Figure size 432x288 with 1 Axes>"
            ],
            "image/png": "[encoded data removed]"
          },
          "metadata": {
            "needs_background": "light"
          }
        }
      ]
    }
  ]
}